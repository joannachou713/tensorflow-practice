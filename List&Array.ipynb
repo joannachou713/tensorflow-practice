{
 "cells": [
  {
   "cell_type": "code",
   "execution_count": 1,
   "metadata": {},
   "outputs": [],
   "source": [
    "#set up\n",
    "%matplotlib inline #讓jupyter能夠顯示matplotlib的圖片\n",
    "import numpy as np\n",
    "import matplotlib.pyplot as plt"
   ]
  },
  {
   "cell_type": "markdown",
   "metadata": {},
   "source": [
    "----\n",
    "Array可以直接對內容做修改（不跑for loop）"
   ]
  },
  {
   "cell_type": "code",
   "execution_count": 7,
   "metadata": {},
   "outputs": [
    {
     "name": "stdout",
     "output_type": "stream",
     "text": [
      "[100 500  30]\n",
      "[ 3010. 15050.   903.]\n"
     ]
    }
   ],
   "source": [
    "p=[100, 500, 30]\n",
    "c=30.1\n",
    "prices = np.array(p)\n",
    "print(prices)\n",
    "print(prices*c)"
   ]
  },
  {
   "cell_type": "markdown",
   "metadata": {},
   "source": [
    "----\n",
    "Array可以將個別位置相乘<br>\n",
    "`sum()`可以直接算Array的總和<br>\n",
    "`np.dot(vec1, vec2)` 可以直接做內積: 也可以做二維ㄉ"
   ]
  },
  {
   "cell_type": "code",
   "execution_count": 6,
   "metadata": {},
   "outputs": [
    {
     "name": "stdout",
     "output_type": "stream",
     "text": [
      "78.1\n",
      "78.1\n"
     ]
    }
   ],
   "source": [
    "grade = np.array([85, 70, 82])\n",
    "weight = np.array([0.3, 0.4, 0.3])\n",
    "g = grade * weight\n",
    "print(g.sum())\n",
    "print(np.dot(grade, weight))"
   ]
  },
  {
   "cell_type": "markdown",
   "metadata": {},
   "source": [
    "----\n",
    "`np.random.randn(100)`表示取100個數字**平均值是0, 標準差是1**<br>\n",
    "改平均：`+X`<br>\n",
    "改標準差：`*X`"
   ]
  },
  {
   "cell_type": "code",
   "execution_count": 9,
   "metadata": {},
   "outputs": [
    {
     "data": {
      "text/plain": [
       "array([50.31337159, 51.42443424, 49.94193163, 49.45309731, 49.0235193 ,\n",
       "       50.18333025, 48.31574922, 49.52461733, 47.94982997, 51.05819886,\n",
       "       49.50405041, 48.8821595 , 51.63417944, 50.12199773, 48.82080157,\n",
       "       51.31133579, 49.11524887, 48.69765124, 49.67295186, 49.95743739,\n",
       "       47.70592715, 49.70813689, 50.47497081, 49.84922729, 50.09302744,\n",
       "       49.78463405, 50.07239563, 51.1680913 , 49.60132712, 51.68427771,\n",
       "       51.059648  , 50.78321018, 48.76448264, 50.54453847, 51.83051443,\n",
       "       50.69014546, 50.656142  , 50.81461264, 51.90656697, 48.93137779,\n",
       "       51.67220393, 49.14300981, 50.39679601, 51.36997944, 50.06787762,\n",
       "       48.27477704, 49.64517696, 47.9143863 , 52.65581822, 50.97726957,\n",
       "       51.23874715, 50.11305088, 50.61715873, 50.21458218, 50.01440347,\n",
       "       50.89174542, 50.70718263, 49.82855115, 51.24406646, 50.56900803,\n",
       "       48.88366517, 49.79581209, 51.29207092, 49.96192293, 48.20552315,\n",
       "       50.57372567, 50.17505934, 48.68322116, 49.0818358 , 49.91436344,\n",
       "       50.10323453, 49.30479047, 50.68536091, 48.55121834, 49.01828328,\n",
       "       49.96204029, 49.15969265, 49.45774963, 50.51326807, 50.1936847 ,\n",
       "       49.52234989, 48.17271857, 48.95262875, 48.33457806, 52.18373946,\n",
       "       48.96402924, 49.97823747, 49.90687838, 50.83965745, 50.62421401,\n",
       "       48.76541509, 49.94448281, 49.73446384, 50.28018405, 50.72523479,\n",
       "       51.27698959, 49.5411306 , 49.40364671, 49.32914282, 49.86706603])"
      ]
     },
     "execution_count": 9,
     "metadata": {},
     "output_type": "execute_result"
    }
   ],
   "source": [
    "A = np.random.randn(100)\n",
    "A+=50\n",
    "A"
   ]
  },
  {
   "cell_type": "markdown",
   "metadata": {},
   "source": [
    "---\n",
    "`.shape`可以看Array是幾維向量（幾乘幾）<br>\n",
    "`.shape`直接指定可以改維度<br>\n",
    "`reshape(x, y)` is called by value（會回傳一個新的Array）"
   ]
  },
  {
   "cell_type": "code",
   "execution_count": 12,
   "metadata": {},
   "outputs": [
    {
     "name": "stdout",
     "output_type": "stream",
     "text": [
      "(100,)\n",
      "[[50.31337159 51.42443424 49.94193163 49.45309731 49.0235193  50.18333025\n",
      "  48.31574922 49.52461733 47.94982997 51.05819886 49.50405041 48.8821595\n",
      "  51.63417944 50.12199773 48.82080157 51.31133579 49.11524887 48.69765124\n",
      "  49.67295186 49.95743739]\n",
      " [47.70592715 49.70813689 50.47497081 49.84922729 50.09302744 49.78463405\n",
      "  50.07239563 51.1680913  49.60132712 51.68427771 51.059648   50.78321018\n",
      "  48.76448264 50.54453847 51.83051443 50.69014546 50.656142   50.81461264\n",
      "  51.90656697 48.93137779]\n",
      " [51.67220393 49.14300981 50.39679601 51.36997944 50.06787762 48.27477704\n",
      "  49.64517696 47.9143863  52.65581822 50.97726957 51.23874715 50.11305088\n",
      "  50.61715873 50.21458218 50.01440347 50.89174542 50.70718263 49.82855115\n",
      "  51.24406646 50.56900803]\n",
      " [48.88366517 49.79581209 51.29207092 49.96192293 48.20552315 50.57372567\n",
      "  50.17505934 48.68322116 49.0818358  49.91436344 50.10323453 49.30479047\n",
      "  50.68536091 48.55121834 49.01828328 49.96204029 49.15969265 49.45774963\n",
      "  50.51326807 50.1936847 ]\n",
      " [49.52234989 48.17271857 48.95262875 48.33457806 52.18373946 48.96402924\n",
      "  49.97823747 49.90687838 50.83965745 50.62421401 48.76541509 49.94448281\n",
      "  49.73446384 50.28018405 50.72523479 51.27698959 49.5411306  49.40364671\n",
      "  49.32914282 49.86706603]]\n",
      "[[50.31337159 51.42443424 49.94193163 49.45309731 49.0235193  50.18333025\n",
      "  48.31574922 49.52461733 47.94982997 51.05819886]\n",
      " [49.50405041 48.8821595  51.63417944 50.12199773 48.82080157 51.31133579\n",
      "  49.11524887 48.69765124 49.67295186 49.95743739]\n",
      " [47.70592715 49.70813689 50.47497081 49.84922729 50.09302744 49.78463405\n",
      "  50.07239563 51.1680913  49.60132712 51.68427771]\n",
      " [51.059648   50.78321018 48.76448264 50.54453847 51.83051443 50.69014546\n",
      "  50.656142   50.81461264 51.90656697 48.93137779]\n",
      " [51.67220393 49.14300981 50.39679601 51.36997944 50.06787762 48.27477704\n",
      "  49.64517696 47.9143863  52.65581822 50.97726957]\n",
      " [51.23874715 50.11305088 50.61715873 50.21458218 50.01440347 50.89174542\n",
      "  50.70718263 49.82855115 51.24406646 50.56900803]\n",
      " [48.88366517 49.79581209 51.29207092 49.96192293 48.20552315 50.57372567\n",
      "  50.17505934 48.68322116 49.0818358  49.91436344]\n",
      " [50.10323453 49.30479047 50.68536091 48.55121834 49.01828328 49.96204029\n",
      "  49.15969265 49.45774963 50.51326807 50.1936847 ]\n",
      " [49.52234989 48.17271857 48.95262875 48.33457806 52.18373946 48.96402924\n",
      "  49.97823747 49.90687838 50.83965745 50.62421401]\n",
      " [48.76541509 49.94448281 49.73446384 50.28018405 50.72523479 51.27698959\n",
      "  49.5411306  49.40364671 49.32914282 49.86706603]]\n"
     ]
    }
   ],
   "source": [
    "print(A.shape)\n",
    "A.shape=(5, 20)\n",
    "print(A)\n",
    "A = A.reshape(10,10)\n",
    "print(A)"
   ]
  },
  {
   "cell_type": "markdown",
   "metadata": {},
   "source": [
    "---\n",
    "### 進階用法\n",
    "#### 生成Array的快速方法們\n",
    "`np.zeros(x)`或`np.ones(x)`\n",
    "   * x為數字: 一維陣列<br>\n",
    "   * x為tuple: 二維陣列<br>\n",
    "`np.eye(x)`生成n\\*n的單位矩陣"
   ]
  },
  {
   "cell_type": "code",
   "execution_count": 15,
   "metadata": {},
   "outputs": [
    {
     "data": {
      "text/plain": [
       "array([[0, 0],\n",
       "       [0, 1],\n",
       "       [0, 2],\n",
       "       [0, 3],\n",
       "       [0, 4],\n",
       "       [1, 0],\n",
       "       [1, 1],\n",
       "       [1, 2],\n",
       "       [1, 3],\n",
       "       [1, 4],\n",
       "       [2, 0],\n",
       "       [2, 1],\n",
       "       [2, 2],\n",
       "       [2, 3],\n",
       "       [2, 4]])"
      ]
     },
     "execution_count": 15,
     "metadata": {},
     "output_type": "execute_result"
    }
   ],
   "source": [
    "xy = [[x, y] for x in range(3) for y in range(5)]\n",
    "xy = np.array(xy)\n",
    "xy"
   ]
  },
  {
   "cell_type": "code",
   "execution_count": 19,
   "metadata": {},
   "outputs": [
    {
     "name": "stdout",
     "output_type": "stream",
     "text": [
      "[0. 0. 0. 0. 0. 0. 0. 0. 0. 0.]\n",
      "[[0. 0.]\n",
      " [0. 0.]]\n",
      "[[1. 0. 0. 0. 0.]\n",
      " [0. 1. 0. 0. 0.]\n",
      " [0. 0. 1. 0. 0.]\n",
      " [0. 0. 0. 1. 0.]\n",
      " [0. 0. 0. 0. 1.]]\n"
     ]
    }
   ],
   "source": [
    "print(np.zeros(10))\n",
    "print(np.zeros((2,2)))\n",
    "print(np.eye(5))"
   ]
  },
  {
   "cell_type": "markdown",
   "metadata": {},
   "source": [
    "---\n",
    "### 畫圖！\n",
    "`np.linspace(起始值, 結束值, 多少點)`: 可得描點範圍的array<br>\n",
    "`plt.plot(描點範圍的array, 想畫的函數)`: 畫圖<br>\n",
    "圖也可以畫一起ㄛ<br>\n",
    "#### 快篩法\n",
    "`條件` 會回傳一個boolean的Array<br>\n",
    "`Array[條件]`會回傳一個符合條件的Array<br>\n"
   ]
  },
  {
   "cell_type": "code",
   "execution_count": 23,
   "metadata": {},
   "outputs": [
    {
     "data": {
      "text/plain": [
       "[<matplotlib.lines.Line2D at 0x120427400>]"
      ]
     },
     "execution_count": 23,
     "metadata": {},
     "output_type": "execute_result"
    },
    {
     "data": {
      "image/png": "[encoded data removed]",
      "text/plain": [
       "<Figure size 432x288 with 1 Axes>"
      ]
     },
     "metadata": {
      "needs_background": "light"
     },
     "output_type": "display_data"
    }
   ],
   "source": [
    "x = np.linspace(0,10,100)\n",
    "plt.plot(x, np.sin(x))\n",
    "plt.plot(x, np.cos(x)+x)"
   ]
  },
  {
   "cell_type": "code",
   "execution_count": 34,
   "metadata": {},
   "outputs": [
    {
     "data": {
      "text/plain": [
       "[<matplotlib.lines.Line2D at 0x120f47400>]"
      ]
     },
     "execution_count": 34,
     "metadata": {},
     "output_type": "execute_result"
    },
    {
     "data": {
      "image/png": "[encoded data removed]",
      "text/plain": [
       "<Figure size 432x288 with 1 Axes>"
      ]
     },
     "metadata": {
      "needs_background": "light"
     },
     "output_type": "display_data"
    }
   ],
   "source": [
    "x = np.linspace(-5, 5, 500)\n",
    "y = np.sinc(x)\n",
    "plt.plot(x, y)\n",
    "plt.plot(x[y>0], y[y>0], 'x')"
   ]
  },
  {
   "cell_type": "code",
   "execution_count": null,
   "metadata": {},
   "outputs": [],
   "source": []
  }
 ],
 "metadata": {
  "kernelspec": {
   "display_name": "Python 3",
   "language": "python",
   "name": "python3"
  },
  "language_info": {
   "codemirror_mode": {
    "name": "ipython",
    "version": 3
   },
   "file_extension": ".py",
   "mimetype": "text/x-python",
   "name": "python",
   "nbconvert_exporter": "python",
   "pygments_lexer": "ipython3",
   "version": "3.7.1"
  }
 },
 "nbformat": 4,
 "nbformat_minor": 2
}
