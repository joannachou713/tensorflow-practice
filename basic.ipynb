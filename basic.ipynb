{
 "cells": [
  {
   "cell_type": "code",
   "execution_count": 5,
   "metadata": {},
   "outputs": [
    {
     "name": "stdout",
     "output_type": "stream",
     "text": [
      "area= 48\n"
     ]
    }
   ],
   "source": [
    "import tensorflow as tf\n",
    "import numpy as np\n",
    "width = tf.placeholder('int32', name='width')\n",
    "height = tf.placeholder('int32', name='height')\n",
    "area = tf.multiply(width,height, name='area')  \n",
    "\n",
    "with tf.Session() as sess:\n",
    "    init = tf.global_variables_initializer()\n",
    "    sess.run(init)\n",
    "    print('area=',sess.run(area,feed_dict={width: 6, height: 8}))"
   ]
  },
  {
   "cell_type": "code",
   "execution_count": 5,
   "metadata": {},
   "outputs": [],
   "source": [
    "tf.summary.merge_all()  #整合要顯示的資料\n",
    "train_writer = tf.summary.FileWriter('log/area',sess.graph)   #主要寫入當前執行目錄下的log/area子目錄"
   ]
  },
  {
   "cell_type": "code",
   "execution_count": 6,
   "metadata": {},
   "outputs": [],
   "source": [
    "x = tf.Variable([0, 1, 0.5, 0.6])  #一維\n",
    "y = tf.Variable([[0, 1, 0.5, 0.6],[0.4, 1, 2, 0.7],[0.2, 2, 9, 0.2]])  #二維"
   ]
  },
  {
   "cell_type": "code",
   "execution_count": 7,
   "metadata": {},
   "outputs": [
    {
     "name": "stdout",
     "output_type": "stream",
     "text": [
      "[0.  1.  0.5 0.6] X shape: (4,)\n",
      "[[0.  1.  0.5 0.6]\n",
      " [0.4 1.  2.  0.7]\n",
      " [0.2 2.  9.  0.2]] Y shape: (3, 4)\n"
     ]
    }
   ],
   "source": [
    "with tf.Session() as sess:\n",
    "    init = tf.global_variables_initializer()\n",
    "    sess.run(init)\n",
    "    X = sess.run(x)\n",
    "    Y = sess.run(y)\n",
    "    print(X,'X shape:',X.shape)\n",
    "    print(Y,'Y shape:',Y.shape)"
   ]
  },
  {
   "cell_type": "code",
   "execution_count": 8,
   "metadata": {},
   "outputs": [
    {
     "name": "stdout",
     "output_type": "stream",
     "text": [
      "XWb: [[-1.1999999  0.6      ]]\n"
     ]
    }
   ],
   "source": [
    "X = tf.Variable([[1., 1., 1.]])\n",
    "W = tf.Variable([[-0.5, -0.2], [-0.3,  0.4], [-0.5,  0.2]])\n",
    "b = tf.Variable([[0.1, 0.2]])\n",
    "XWb = tf.matmul(X, W)+b\n",
    "\n",
    "with tf.Session() as sess:\n",
    "    init = tf.global_variables_initializer()\n",
    "    sess.run(init)\n",
    "    print('XWb:',sess.run(XWb))"
   ]
  },
  {
   "cell_type": "markdown",
   "metadata": {},
   "source": [
    "# 矩陣運算模擬神經網路"
   ]
  },
  {
   "cell_type": "code",
   "execution_count": 2,
   "metadata": {
    "scrolled": true
   },
   "outputs": [
    {
     "name": "stdout",
     "output_type": "stream",
     "text": [
      "WARNING:tensorflow:From /anaconda3/lib/python3.7/site-packages/tensorflow/python/framework/op_def_library.py:263: colocate_with (from tensorflow.python.framework.ops) is deprecated and will be removed in a future version.\n",
      "Instructions for updating:\n",
      "Colocations handled automatically by placer.\n",
      "XWb:\n",
      "[[-0.36000004  0.28      ]]\n",
      "y:\n",
      "[[-0.    0.28]]\n"
     ]
    }
   ],
   "source": [
    "X = tf.Variable([[0.4, 0.2, 0.4]])\n",
    "W = tf.Variable([[-0.5, -0.2],[-0.3,  0.4],[-0.5,  0.2]])\n",
    "b = tf.Variable([[0.1, 0.2]])\n",
    "XWb = tf.matmul(X,W)+b\n",
    "y = tf.nn.relu(XWb)\n",
    "\n",
    "with tf.Session() as sess:\n",
    "    init = tf.global_variables_initializer()\n",
    "    sess.run(init)\n",
    "    print('XWb:');print(sess.run(XWb))\n",
    "    print('y:');print(sess.run(y))"
   ]
  },
  {
   "cell_type": "code",
   "execution_count": 6,
   "metadata": {},
   "outputs": [
    {
     "name": "stdout",
     "output_type": "stream",
     "text": [
      "_b: [[0.21782006 1.5617473 ]] , _W: [[0.7040635  0.6768398 ]\n",
      " [1.2828304  1.3779947 ]\n",
      " [0.75585127 0.07535274]] , _X: [[0.4 0.2 0.4]] , _y: [[1.058352  2.1382232]]\n"
     ]
    }
   ],
   "source": [
    "X = tf.placeholder('float', [None, 3])\n",
    "W = tf.Variable(tf.random_normal([3, 2]))\n",
    "b = tf.Variable(tf.random_normal([1, 2]))\n",
    "XWb = tf.matmul(X,W)+b\n",
    "y = tf.nn.relu(XWb)\n",
    "\n",
    "with tf.Session() as sess:\n",
    "    init = tf.global_variables_initializer()\n",
    "    sess.run(init)\n",
    "    X_array = np.array([[0.4, 0.2, 0.4]])\n",
    "    (_b, _W, _X, _y) = sess.run((b, W, X, y), feed_dict={X:X_array})\n",
    "    print('_b:',_b,', _W:',_W,', _X:',_X,', _y:',_y)"
   ]
  },
  {
   "cell_type": "code",
   "execution_count": 11,
   "metadata": {},
   "outputs": [],
   "source": [
    "def layer(output_dim, input_dim, inputs, activation=None):\n",
    "    W = tf.Variable(tf.random_normal([input_dim, output_dim]))\n",
    "    b = tf.Variable(tf.random_normal([1, output_dim]))\n",
    "    XWb = tf.matmul(inputs, W)+b\n",
    "    if activation is None:\n",
    "        outputs = XWb\n",
    "    else:\n",
    "        outputs = activation(XWb)\n",
    "    return outputs"
   ]
  },
  {
   "cell_type": "code",
   "execution_count": 13,
   "metadata": {},
   "outputs": [
    {
     "name": "stdout",
     "output_type": "stream",
     "text": [
      "input layer X: [[0.4 0.2 0.4 0.5]]\n",
      "hidden layer h: [[-0.          0.34691143 -0.        ]]\n",
      "output layer y: [[-1.6438627  2.350263 ]]\n"
     ]
    }
   ],
   "source": [
    "X = tf.placeholder('float', [None, 4])\n",
    "h = layer(output_dim = 3, input_dim = 4, inputs = X, activation = tf.nn.relu)\n",
    "y = layer(output_dim = 2, input_dim = 3, inputs = h)\n",
    "\n",
    "with tf.Session() as sess:\n",
    "    init = tf.global_variables_initializer()\n",
    "    sess.run(init)\n",
    "    X_array = np.array([[0.4, 0.2, 0.4, 0.5]])\n",
    "    (layer_X, layer_h, layer_y) = sess.run((X, h, y), feed_dict = {X:X_array})\n",
    "    print('input layer X:', layer_X)\n",
    "    print('hidden layer h:', layer_h)\n",
    "    print('output layer y:', layer_y)"
   ]
  },
  {
   "cell_type": "code",
   "execution_count": 15,
   "metadata": {},
   "outputs": [],
   "source": [
    "def layer_debug(output_dim, input_dim, inputs, activation=None):\n",
    "    W = tf.Variable(tf.random_normal([input_dim, output_dim]))\n",
    "    b = tf.Variable(tf.random_normal([1, output_dim]))\n",
    "    XWb = tf.matmul(inputs, W)+b\n",
    "    if activation is None:\n",
    "        outputs = XWb\n",
    "    else:\n",
    "        outputs = activation(XWb)\n",
    "    return outputs,W,b"
   ]
  },
  {
   "cell_type": "code",
   "execution_count": 17,
   "metadata": {},
   "outputs": [
    {
     "name": "stdout",
     "output_type": "stream",
     "text": [
      "input layer X:\n",
      "[[0.4 0.2 0.4 0.5]]\n",
      "W1:\n",
      "[[ 0.3917903   1.3356526  -0.37661743]\n",
      " [ 0.45549446  0.9890086  -0.558655  ]\n",
      " [ 0.95031995  1.072156   -0.68911016]\n",
      " [-1.4255245  -0.8459974  -0.00843623]]\n",
      "b1:\n",
      "[[-0.66267675  1.6835241   0.6696364 ]]\n",
      "hidden layer h:\n",
      "[[-0.          2.4214506   0.12739629]]\n",
      "W2:\n",
      "[[-0.13075495  0.83973515]\n",
      " [-0.94018686  0.22271502]\n",
      " [ 0.9454406  -0.30547047]]\n",
      "b2:\n",
      "[[0.99103767 0.26588172]]\n",
      "output layer y:\n",
      "[[-1.1651328  0.7662593]]\n"
     ]
    }
   ],
   "source": [
    "X = tf.placeholder('float', [None, 4])\n",
    "h,W1,b1 = layer_debug(output_dim = 3, input_dim = 4, inputs = X, activation = tf.nn.relu)\n",
    "y,W2,b2 = layer_debug(output_dim = 2, input_dim = 3, inputs = h)\n",
    "\n",
    "with tf.Session() as sess:\n",
    "    init = tf.global_variables_initializer()\n",
    "    sess.run(init)\n",
    "    X_array = np.array([[0.4, 0.2, 0.4, 0.5]])\n",
    "    (layer_X, layer_h, layer_y,W1,b1,W2,b2) = sess.run((X, h, y,W1,b1,W2,b2), feed_dict = {X:X_array})\n",
    "    print('input layer X:', layer_X,sep='\\n')\n",
    "    print('W1:',W1,sep='\\n')\n",
    "    print('b1:',b1,sep='\\n')\n",
    "    print('hidden layer h:', layer_h,sep='\\n')\n",
    "    print('W2:',W2,sep='\\n')\n",
    "    print('b2:',b2,sep='\\n')\n",
    "    print('output layer y:', layer_y,sep='\\n')"
   ]
  }
 ],
 "metadata": {
  "kernelspec": {
   "display_name": "Python 3",
   "language": "python",
   "name": "python3"
  },
  "language_info": {
   "codemirror_mode": {
    "name": "ipython",
    "version": 3
   },
   "file_extension": ".py",
   "mimetype": "text/x-python",
   "name": "python",
   "nbconvert_exporter": "python",
   "pygments_lexer": "ipython3",
   "version": "3.7.1"
  }
 },
 "nbformat": 4,
 "nbformat_minor": 2
}
